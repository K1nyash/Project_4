{
 "cells": [
  {
   "cell_type": "markdown",
   "metadata": {},
   "source": [
    "## Business Understanding"
   ]
  },
  {
   "cell_type": "code",
   "execution_count": null,
   "metadata": {},
   "outputs": [],
   "source": [
    "https://www.kaggle.com/datasets/thedevastator/discovering-new-york-city-through-airbnb-user-re"
   ]
  },
  {
   "cell_type": "markdown",
   "metadata": {},
   "source": [
    "Airbnb is a community-based online platform for listing and renting local homes. It connects hosts and travelers and facilitates the process of renting without owning any rooms itself. It cultivates a sharing-economy by allowing property owners to rent out private flats.\n",
    "\n",
    "Since 2008, Airbnb has helped guests and hosts to travel in a more unique, personalized way. The company went from a single air mattress for rent to global cooperation valued at more than 30 billion dollars all thanks to its energetic founder- Brian Chesky.\n",
    "\n",
    "Sentiment analysis is extremely important because it helps businesses quickly understand the overall opinions of their customers. By automatically sorting the sentiment behind reviews, businesses can gauge brand reputation, understand customers and make faster and more accurate decisions.\n",
    "\n",
    "Reviews are extremely important on Airbnb as customers are generally wary of airbnbs with bad ratings, while good reviews will increase the number of bookings you get as a host.This study will build from the data to identify a set of broad themes that characterise the attributes that influence Airbnb users’ experience in New York City."
   ]
  },
  {
   "cell_type": "markdown",
   "metadata": {},
   "source": [
    "### Problem Statement"
   ]
  },
  {
   "cell_type": "markdown",
   "metadata": {},
   "source": [
    "When choosing an Airbnb, apart from the obvious requirements (price, location, and amenities), customers tend to spend time reading through guest reviews to understand more about the host and the experience they can expect while staying there. The only problem is that this manual effort can be very time consuming!\n",
    "\n",
    "The problem is how can guests get a concise understanding of prior guests experience without having to read through pages of reviews? Customers are not only interested in knowing whether most reviews were positive they are also interested in knowing what most guests have said about their experience.\n",
    "With this problem framed, the study aims to approach the problem by relevant keyword extraction using TF-IDF (Term Frequency — Inverse Document Frequency) and Text Summarisation.\n"
   ]
  },
  {
   "cell_type": "markdown",
   "metadata": {},
   "source": [
    "### Purpose of the Study"
   ]
  },
  {
   "cell_type": "markdown",
   "metadata": {},
   "source": [
    "General Objective:\n",
    "\n",
    "To analyze customer airbnb reviews in New York City\n",
    "\n",
    "Specific Objective:\n",
    "\n",
    "Identify accommodation attributes Airbnb guests use to rate their experience\n"
   ]
  },
  {
   "cell_type": "code",
   "execution_count": 25,
   "metadata": {},
   "outputs": [
    {
     "data": {
      "text/html": [
       "<div>\n",
       "<style scoped>\n",
       "    .dataframe tbody tr th:only-of-type {\n",
       "        vertical-align: middle;\n",
       "    }\n",
       "\n",
       "    .dataframe tbody tr th {\n",
       "        vertical-align: top;\n",
       "    }\n",
       "\n",
       "    .dataframe thead th {\n",
       "        text-align: right;\n",
       "    }\n",
       "</style>\n",
       "<table border=\"1\" class=\"dataframe\">\n",
       "  <thead>\n",
       "    <tr style=\"text-align: right;\">\n",
       "      <th></th>\n",
       "      <th>listing_id</th>\n",
       "      <th>url</th>\n",
       "      <th>review_posted_date</th>\n",
       "      <th>review</th>\n",
       "    </tr>\n",
       "  </thead>\n",
       "  <tbody>\n",
       "    <tr>\n",
       "      <th>0</th>\n",
       "      <td>2595</td>\n",
       "      <td>https://www.airbnb.com/rooms/2595</td>\n",
       "      <td>November 2019</td>\n",
       "      <td>Great location, convenient to everything. Very...</td>\n",
       "    </tr>\n",
       "    <tr>\n",
       "      <th>1</th>\n",
       "      <td>2595</td>\n",
       "      <td>https://www.airbnb.com/rooms/2595</td>\n",
       "      <td>May 2019</td>\n",
       "      <td>Place was so cute and comfy! Host was great an...</td>\n",
       "    </tr>\n",
       "    <tr>\n",
       "      <th>2</th>\n",
       "      <td>2595</td>\n",
       "      <td>https://www.airbnb.com/rooms/2595</td>\n",
       "      <td>May 2019</td>\n",
       "      <td>10 / 10 would stay again</td>\n",
       "    </tr>\n",
       "    <tr>\n",
       "      <th>3</th>\n",
       "      <td>2595</td>\n",
       "      <td>https://www.airbnb.com/rooms/2595</td>\n",
       "      <td>January 2019</td>\n",
       "      <td>The apartment met expectations to how it was i...</td>\n",
       "    </tr>\n",
       "    <tr>\n",
       "      <th>4</th>\n",
       "      <td>2595</td>\n",
       "      <td>https://www.airbnb.com/rooms/2595</td>\n",
       "      <td>December 2018</td>\n",
       "      <td>Great space in a fun old building in NYC. Love...</td>\n",
       "    </tr>\n",
       "    <tr>\n",
       "      <th>...</th>\n",
       "      <td>...</td>\n",
       "      <td>...</td>\n",
       "      <td>...</td>\n",
       "      <td>...</td>\n",
       "    </tr>\n",
       "    <tr>\n",
       "      <th>17439</th>\n",
       "      <td>1918693</td>\n",
       "      <td>https://www.airbnb.com/rooms/1918693</td>\n",
       "      <td>February 2022</td>\n",
       "      <td>Lovely Brownstone in Brooklyn. Clean and spaci...</td>\n",
       "    </tr>\n",
       "    <tr>\n",
       "      <th>17440</th>\n",
       "      <td>1918693</td>\n",
       "      <td>https://www.airbnb.com/rooms/1918693</td>\n",
       "      <td>January 2022</td>\n",
       "      <td>We had a great stay at Lorelei &amp; Alex’s place....</td>\n",
       "    </tr>\n",
       "    <tr>\n",
       "      <th>17441</th>\n",
       "      <td>1918693</td>\n",
       "      <td>https://www.airbnb.com/rooms/1918693</td>\n",
       "      <td>December 2021</td>\n",
       "      <td>This was a perfect spot for mine and my partne...</td>\n",
       "    </tr>\n",
       "    <tr>\n",
       "      <th>17442</th>\n",
       "      <td>1918693</td>\n",
       "      <td>https://www.airbnb.com/rooms/1918693</td>\n",
       "      <td>November 2021</td>\n",
       "      <td>A lovely spot in a lovely neighborhood. Great ...</td>\n",
       "    </tr>\n",
       "    <tr>\n",
       "      <th>17443</th>\n",
       "      <td>1918693</td>\n",
       "      <td>https://www.airbnb.com/rooms/1918693</td>\n",
       "      <td>November 2021</td>\n",
       "      <td>Overall great stay. Lorelei and Alex were very...</td>\n",
       "    </tr>\n",
       "  </tbody>\n",
       "</table>\n",
       "<p>17444 rows × 4 columns</p>\n",
       "</div>"
      ],
      "text/plain": [
       "       listing_id                                   url review_posted_date  \\\n",
       "0            2595     https://www.airbnb.com/rooms/2595      November 2019   \n",
       "1            2595     https://www.airbnb.com/rooms/2595           May 2019   \n",
       "2            2595     https://www.airbnb.com/rooms/2595           May 2019   \n",
       "3            2595     https://www.airbnb.com/rooms/2595       January 2019   \n",
       "4            2595     https://www.airbnb.com/rooms/2595      December 2018   \n",
       "...           ...                                   ...                ...   \n",
       "17439     1918693  https://www.airbnb.com/rooms/1918693      February 2022   \n",
       "17440     1918693  https://www.airbnb.com/rooms/1918693       January 2022   \n",
       "17441     1918693  https://www.airbnb.com/rooms/1918693      December 2021   \n",
       "17442     1918693  https://www.airbnb.com/rooms/1918693      November 2021   \n",
       "17443     1918693  https://www.airbnb.com/rooms/1918693      November 2021   \n",
       "\n",
       "                                                  review  \n",
       "0      Great location, convenient to everything. Very...  \n",
       "1      Place was so cute and comfy! Host was great an...  \n",
       "2                               10 / 10 would stay again  \n",
       "3      The apartment met expectations to how it was i...  \n",
       "4      Great space in a fun old building in NYC. Love...  \n",
       "...                                                  ...  \n",
       "17439  Lovely Brownstone in Brooklyn. Clean and spaci...  \n",
       "17440  We had a great stay at Lorelei & Alex’s place....  \n",
       "17441  This was a perfect spot for mine and my partne...  \n",
       "17442  A lovely spot in a lovely neighborhood. Great ...  \n",
       "17443  Overall great stay. Lorelei and Alex were very...  \n",
       "\n",
       "[17444 rows x 4 columns]"
      ]
     },
     "execution_count": 25,
     "metadata": {},
     "output_type": "execute_result"
    }
   ],
   "source": [
    "import pandas as pd\n",
    "data = pd.read_csv('NYC_2021_airbnb_reviews_data1.csv')\n",
    "data"
   ]
  },
  {
   "cell_type": "code",
   "execution_count": 26,
   "metadata": {},
   "outputs": [
    {
     "data": {
      "text/plain": [
       "(17444, 4)"
      ]
     },
     "execution_count": 26,
     "metadata": {},
     "output_type": "execute_result"
    }
   ],
   "source": [
    "data.shape"
   ]
  },
  {
   "cell_type": "markdown",
   "metadata": {},
   "source": [
    "### Business Understanding"
   ]
  },
  {
   "cell_type": "markdown",
   "metadata": {},
   "source": [
    "Weather is something that humans always face in their daily life, it can change from rain, scorching heat, snow, or cloudy. In contrast to climate, the weather has the characteristics of a limited period and a location that is limited to city/municipal coverage. Climate is the long-term weather pattern in an area, typically averaged over 30 years while climate change is the long-term alteration of temperature and typical weather patterns in a place.\n",
    "\n",
    "Fossil fuels (coal, oil and gas) are by far the largest contributor to global climate change, accounting for over 75 per cent of global greenhouse gas emissions and nearly 90 per cent of all carbon dioxide emissions. As greenhouse gas emissions blanket the Earth, they trap the sun’s heat leading to global warming and climate change. The world is now warming faster than at any point in recorded history. Warmer temperatures over time are changing weather patterns and disrupting the usual balance of nature posing many risks to human beings and all other forms of life on Earth.\n",
    "\n",
    "A changing climate is leading to more occurrences of extreme events such as droughts (moisture deficits) and floods (moisture surpluses), which have a negative impact on crop growth and yields. We are already facing the climate change effects scientists predicted, such as the loss of sea ice, melting glaciers and ice sheets, sea level rise, and more intense heat waves.\n",
    "\n",
    "India is among the countries most vulnerable to climate change. It has one of the highest densities of economic activity in the world, and very large numbers of poor people who rely on the natural resource base for their livelihoods, with a high dependence on rainfall. \n"
   ]
  },
  {
   "cell_type": "markdown",
   "metadata": {},
   "source": [
    "### Purpose of the Study"
   ]
  },
  {
   "cell_type": "markdown",
   "metadata": {},
   "source": [
    "General Objective:\n",
    "To detect climate change and make a prediction on India's climate change"
   ]
  },
  {
   "cell_type": "code",
   "execution_count": null,
   "metadata": {},
   "outputs": [],
   "source": [
    "https://www.kaggle.com/datasets/sumanthvrao/daily-climate-time-series-data"
   ]
  },
  {
   "cell_type": "code",
   "execution_count": 19,
   "metadata": {
    "scrolled": true
   },
   "outputs": [
    {
     "data": {
      "text/html": [
       "<div>\n",
       "<style scoped>\n",
       "    .dataframe tbody tr th:only-of-type {\n",
       "        vertical-align: middle;\n",
       "    }\n",
       "\n",
       "    .dataframe tbody tr th {\n",
       "        vertical-align: top;\n",
       "    }\n",
       "\n",
       "    .dataframe thead th {\n",
       "        text-align: right;\n",
       "    }\n",
       "</style>\n",
       "<table border=\"1\" class=\"dataframe\">\n",
       "  <thead>\n",
       "    <tr style=\"text-align: right;\">\n",
       "      <th></th>\n",
       "      <th>meantemp</th>\n",
       "      <th>humidity</th>\n",
       "      <th>wind_speed</th>\n",
       "      <th>meanpressure</th>\n",
       "    </tr>\n",
       "    <tr>\n",
       "      <th>date</th>\n",
       "      <th></th>\n",
       "      <th></th>\n",
       "      <th></th>\n",
       "      <th></th>\n",
       "    </tr>\n",
       "  </thead>\n",
       "  <tbody>\n",
       "    <tr>\n",
       "      <th>2013-01-01</th>\n",
       "      <td>10.000000</td>\n",
       "      <td>84.500000</td>\n",
       "      <td>0.000000</td>\n",
       "      <td>1015.666667</td>\n",
       "    </tr>\n",
       "    <tr>\n",
       "      <th>2013-01-02</th>\n",
       "      <td>7.400000</td>\n",
       "      <td>92.000000</td>\n",
       "      <td>2.980000</td>\n",
       "      <td>1017.800000</td>\n",
       "    </tr>\n",
       "    <tr>\n",
       "      <th>2013-01-03</th>\n",
       "      <td>7.166667</td>\n",
       "      <td>87.000000</td>\n",
       "      <td>4.633333</td>\n",
       "      <td>1018.666667</td>\n",
       "    </tr>\n",
       "    <tr>\n",
       "      <th>2013-01-04</th>\n",
       "      <td>8.666667</td>\n",
       "      <td>71.333333</td>\n",
       "      <td>1.233333</td>\n",
       "      <td>1017.166667</td>\n",
       "    </tr>\n",
       "    <tr>\n",
       "      <th>2013-01-05</th>\n",
       "      <td>6.000000</td>\n",
       "      <td>86.833333</td>\n",
       "      <td>3.700000</td>\n",
       "      <td>1016.500000</td>\n",
       "    </tr>\n",
       "    <tr>\n",
       "      <th>...</th>\n",
       "      <td>...</td>\n",
       "      <td>...</td>\n",
       "      <td>...</td>\n",
       "      <td>...</td>\n",
       "    </tr>\n",
       "    <tr>\n",
       "      <th>2016-12-28</th>\n",
       "      <td>17.217391</td>\n",
       "      <td>68.043478</td>\n",
       "      <td>3.547826</td>\n",
       "      <td>1015.565217</td>\n",
       "    </tr>\n",
       "    <tr>\n",
       "      <th>2016-12-29</th>\n",
       "      <td>15.238095</td>\n",
       "      <td>87.857143</td>\n",
       "      <td>6.000000</td>\n",
       "      <td>1016.904762</td>\n",
       "    </tr>\n",
       "    <tr>\n",
       "      <th>2016-12-30</th>\n",
       "      <td>14.095238</td>\n",
       "      <td>89.666667</td>\n",
       "      <td>6.266667</td>\n",
       "      <td>1017.904762</td>\n",
       "    </tr>\n",
       "    <tr>\n",
       "      <th>2016-12-31</th>\n",
       "      <td>15.052632</td>\n",
       "      <td>87.000000</td>\n",
       "      <td>7.325000</td>\n",
       "      <td>1016.100000</td>\n",
       "    </tr>\n",
       "    <tr>\n",
       "      <th>2017-01-01</th>\n",
       "      <td>10.000000</td>\n",
       "      <td>100.000000</td>\n",
       "      <td>0.000000</td>\n",
       "      <td>1016.000000</td>\n",
       "    </tr>\n",
       "  </tbody>\n",
       "</table>\n",
       "<p>1462 rows × 4 columns</p>\n",
       "</div>"
      ],
      "text/plain": [
       "             meantemp    humidity  wind_speed  meanpressure\n",
       "date                                                       \n",
       "2013-01-01  10.000000   84.500000    0.000000   1015.666667\n",
       "2013-01-02   7.400000   92.000000    2.980000   1017.800000\n",
       "2013-01-03   7.166667   87.000000    4.633333   1018.666667\n",
       "2013-01-04   8.666667   71.333333    1.233333   1017.166667\n",
       "2013-01-05   6.000000   86.833333    3.700000   1016.500000\n",
       "...               ...         ...         ...           ...\n",
       "2016-12-28  17.217391   68.043478    3.547826   1015.565217\n",
       "2016-12-29  15.238095   87.857143    6.000000   1016.904762\n",
       "2016-12-30  14.095238   89.666667    6.266667   1017.904762\n",
       "2016-12-31  15.052632   87.000000    7.325000   1016.100000\n",
       "2017-01-01  10.000000  100.000000    0.000000   1016.000000\n",
       "\n",
       "[1462 rows x 4 columns]"
      ]
     },
     "execution_count": 19,
     "metadata": {},
     "output_type": "execute_result"
    }
   ],
   "source": [
    "climate = pd.read_csv('DailyDelhiClimateTrain.csv')\n",
    "climate['date']= pd.to_datetime(climate['date'])\n",
    "climate = climate.set_index('date')\n",
    "climate"
   ]
  },
  {
   "cell_type": "code",
   "execution_count": 27,
   "metadata": {},
   "outputs": [
    {
     "data": {
      "text/plain": [
       "(1462, 4)"
      ]
     },
     "execution_count": 27,
     "metadata": {},
     "output_type": "execute_result"
    }
   ],
   "source": [
    "climate.shape"
   ]
  },
  {
   "cell_type": "code",
   "execution_count": null,
   "metadata": {},
   "outputs": [],
   "source": []
  }
 ],
 "metadata": {
  "kernelspec": {
   "display_name": "Python 3 (ipykernel)",
   "language": "python",
   "name": "python3"
  },
  "language_info": {
   "codemirror_mode": {
    "name": "ipython",
    "version": 3
   },
   "file_extension": ".py",
   "mimetype": "text/x-python",
   "name": "python",
   "nbconvert_exporter": "python",
   "pygments_lexer": "ipython3",
   "version": "3.9.12"
  }
 },
 "nbformat": 4,
 "nbformat_minor": 4
}
